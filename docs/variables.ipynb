{
 "cells": [
  {
   "metadata": {},
   "cell_type": "markdown",
   "source": "# Python Variables",
   "id": "e2de653ae4dcc1e0"
  },
  {
   "metadata": {},
   "cell_type": "markdown",
   "source": [
    "## Variables\n",
    "\n",
    "Variables are containers for storing data values. These are the names given to the memory locations where the actual data is stored. Once a variable is created, it can be used to store, retrieve, and manipulate data. The data stored in a variable can be of any type, such as a number, string, list, etc."
   ],
   "id": "458702aaf09af301"
  },
  {
   "metadata": {},
   "cell_type": "markdown",
   "source": [
    "## Creating Variables\n",
    "\n",
    "In Python, variables are created when a value is assigned to it. The assignment operator `=` is used to assign values to variables."
   ],
   "id": "ac88848f68a68fcf"
  },
  {
   "metadata": {
    "ExecuteTime": {
     "end_time": "2024-12-06T18:47:39.711463Z",
     "start_time": "2024-12-06T18:47:39.706605Z"
    }
   },
   "cell_type": "code",
   "source": [
    "age = 23 # integer variable\n",
    "name = \"wasik\" # string variable\n",
    "is_regular = True # boolean variable\n",
    "print(age)\n",
    "print(name)\n",
    "print(is_regular)"
   ],
   "id": "4f3bff5db9ff0755",
   "outputs": [
    {
     "name": "stdout",
     "output_type": "stream",
     "text": [
      "23\n",
      "wasik\n",
      "True\n"
     ]
    }
   ],
   "execution_count": 1
  },
  {
   "metadata": {},
   "cell_type": "markdown",
   "source": "### Assigning Multiple Values to Multiple Variables",
   "id": "c049b3504e96c244"
  },
  {
   "metadata": {
    "ExecuteTime": {
     "end_time": "2024-12-06T18:47:39.719432Z",
     "start_time": "2024-12-06T18:47:39.716905Z"
    }
   },
   "cell_type": "code",
   "source": [
    "x, y, z = 5, 10, 15\n",
    "print(x, y, z)"
   ],
   "id": "4d9a7f97436ff240",
   "outputs": [
    {
     "name": "stdout",
     "output_type": "stream",
     "text": [
      "5 10 15\n"
     ]
    }
   ],
   "execution_count": 2
  },
  {
   "metadata": {},
   "cell_type": "markdown",
   "source": "### Assigning Single Value to Multiple Variables",
   "id": "2e301e6ee5564674"
  },
  {
   "metadata": {
    "ExecuteTime": {
     "end_time": "2024-12-06T18:47:39.769129Z",
     "start_time": "2024-12-06T18:47:39.765553Z"
    }
   },
   "cell_type": "code",
   "source": [
    "x = y = z = 10\n",
    "print(x, y, z)"
   ],
   "id": "c423ad2ea66cce6b",
   "outputs": [
    {
     "name": "stdout",
     "output_type": "stream",
     "text": [
      "10 10 10\n"
     ]
    }
   ],
   "execution_count": 3
  },
  {
   "metadata": {},
   "cell_type": "markdown",
   "source": "### Unpacking a Collection",
   "id": "91eb1519206efca2"
  },
  {
   "metadata": {
    "ExecuteTime": {
     "end_time": "2024-12-06T18:47:39.784990Z",
     "start_time": "2024-12-06T18:47:39.782830Z"
    }
   },
   "cell_type": "code",
   "source": [
    "student_info = [\"wasik\", 23, True] # list\n",
    "name, age, is_regular = student_info # unpacking the list\n",
    "print(name, age, is_regular)"
   ],
   "id": "8376df86a5df6be5",
   "outputs": [
    {
     "name": "stdout",
     "output_type": "stream",
     "text": [
      "wasik 23 True\n"
     ]
    }
   ],
   "execution_count": 4
  },
  {
   "metadata": {},
   "cell_type": "markdown",
   "source": [
    "## Type of Variables\n",
    "\n",
    "Python is a dynamically typed language, which means that the type of a variable is determined at runtime. So variables can change type.\n",
    "\n",
    "### Checking Variable Type\n",
    "\n",
    "The `type()` function is used to check the type of a variable."
   ],
   "id": "1103dce1c0cc8cc8"
  },
  {
   "metadata": {
    "ExecuteTime": {
     "end_time": "2024-12-06T18:47:39.800203Z",
     "start_time": "2024-12-06T18:47:39.797412Z"
    }
   },
   "cell_type": "code",
   "source": [
    "x = 10\n",
    "print(type(x))\n",
    "\n",
    "x = \"Python is fun!\"\n",
    "print(type(x))"
   ],
   "id": "d2a48387f8f624ba",
   "outputs": [
    {
     "name": "stdout",
     "output_type": "stream",
     "text": [
      "<class 'int'>\n",
      "<class 'str'>\n"
     ]
    }
   ],
   "execution_count": 5
  },
  {
   "metadata": {},
   "cell_type": "markdown",
   "source": [
    "## Global Variables\n",
    "\n",
    "Variables that are created outside of a function scope are known as global variables. These variables can be accessed from any part of the program."
   ],
   "id": "35be9ecad8ad4397"
  },
  {
   "metadata": {
    "ExecuteTime": {
     "end_time": "2024-12-06T18:47:39.820497Z",
     "start_time": "2024-12-06T18:47:39.818153Z"
    }
   },
   "cell_type": "code",
   "source": [
    "name = \"wasik\" # global variable\n",
    "\n",
    "def welcome():\n",
    "    name = \"apon\" # local variable\n",
    "    print(\"Welcome\", name)\n",
    "\n",
    "welcome()\n",
    "print(\"Hello\", name)"
   ],
   "id": "f8e7845ad2d197f6",
   "outputs": [
    {
     "name": "stdout",
     "output_type": "stream",
     "text": [
      "Welcome apon\n",
      "Hello wasik\n"
     ]
    }
   ],
   "execution_count": 6
  },
  {
   "metadata": {},
   "cell_type": "markdown",
   "source": [
    "### Change Value of Global Variable Inside a Function\n",
    "\n",
    "To change the value of a global variable inside a function, the `global` keyword is used."
   ],
   "id": "e5afbe7f34566b09"
  },
  {
   "metadata": {
    "ExecuteTime": {
     "end_time": "2024-12-06T18:47:39.836342Z",
     "start_time": "2024-12-06T18:47:39.833906Z"
    }
   },
   "cell_type": "code",
   "source": [
    "name = \"wasik\" # global variable\n",
    "\n",
    "def welcome():\n",
    "    global name\n",
    "    name = \"apon\" # changing the value of global variable\n",
    "    print(\"Welcome\", name)\n",
    "\n",
    "welcome()\n",
    "print(\"Hello\", name)"
   ],
   "id": "da5e9f25f211bfdb",
   "outputs": [
    {
     "name": "stdout",
     "output_type": "stream",
     "text": [
      "Welcome apon\n",
      "Hello apon\n"
     ]
    }
   ],
   "execution_count": 7
  },
  {
   "metadata": {},
   "cell_type": "markdown",
   "source": [
    "## Rules of Naming Variables in Python\n",
    "\n",
    "- A variable name must start with a letter or the underscore character.\n",
    "- A variable name cannot start with a number or any other special characters except the underscore.\n",
    "- Variable names are case-sensitive.\n",
    "- Variable names can contain letters, numbers, and underscores.\n",
    "- Python keywords cannot be used as variable names."
   ],
   "id": "d00fec016488a1d8"
  },
  {
   "metadata": {},
   "cell_type": "markdown",
   "source": [
    "## Best Practices for Naming Variables\n",
    "\n",
    "- Use descriptive names that convey the variable's purpose.\n",
    "- Follow the snake_case naming convention for variables.\n",
    "- Avoid using single letters like x or y, except in loops or simple cases.\n",
    "- Use constants for values that do not change, following the `UPPER_CASE` naming style."
   ],
   "id": "2a9c30bd81931f29"
  }
 ],
 "metadata": {
  "kernelspec": {
   "display_name": "Python 3",
   "language": "python",
   "name": "python3"
  },
  "language_info": {
   "codemirror_mode": {
    "name": "ipython",
    "version": 2
   },
   "file_extension": ".py",
   "mimetype": "text/x-python",
   "name": "python",
   "nbconvert_exporter": "python",
   "pygments_lexer": "ipython2",
   "version": "2.7.6"
  }
 },
 "nbformat": 4,
 "nbformat_minor": 5
}
