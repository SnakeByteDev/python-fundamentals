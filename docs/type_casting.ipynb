{
 "cells": [
  {
   "metadata": {},
   "cell_type": "markdown",
   "source": "# Python Type Casting",
   "id": "972cf87b6261291b"
  },
  {
   "metadata": {},
   "cell_type": "markdown",
   "source": [
    "## Type Casting\n",
    "\n",
    "Type casting is the process of converting one data type to another.\n",
    "\n"
   ],
   "id": "8789fcd6cba6a850"
  },
  {
   "metadata": {},
   "cell_type": "markdown",
   "source": [
    "## Implicit Type Casting\n",
    "\n",
    "Implicit type casting is done automatically by the interpreter. In this type of type casting, the interpreter automatically converts one data type to another without any user intervention."
   ],
   "id": "d285e80ac8e8c1ba"
  },
  {
   "metadata": {
    "ExecuteTime": {
     "end_time": "2024-12-06T21:13:14.390827Z",
     "start_time": "2024-12-06T21:13:14.386026Z"
    }
   },
   "cell_type": "code",
   "source": [
    "x = 10 # integer\n",
    "\n",
    "# Implicit type casting\n",
    "y = x + 5.5 # adding an integer and a float\n",
    "print(y)\n",
    "print(type(y))"
   ],
   "id": "c25a5b67df1569e0",
   "outputs": [
    {
     "name": "stdout",
     "output_type": "stream",
     "text": [
      "15.5\n",
      "<class 'float'>\n"
     ]
    }
   ],
   "execution_count": 1
  },
  {
   "metadata": {},
   "cell_type": "markdown",
   "source": [
    "## Explicit Type Casting\n",
    "\n",
    "Explicit type casting is done manually by the user. In this type of type casting, the user manually converts one data type to another using the built-in data type constructors.\n",
    "\n",
    "List of built-in data type constructors:\n",
    "1. `int()`: Converts to an integer type.\n",
    "2. `float()`: Converts to a float type.\n",
    "3. `str()`: Converts to a string type.\n",
    "4. `bool()`: Converts to a boolean type.\n",
    "5. `complex()`: Converts to a complex type.\n",
    "6. `list()`: Converts to a list type.\n",
    "7. `tuple()`: Converts to a tuple type.\n",
    "8. `set()`: Converts to a set type.\n",
    "9. `dict()`: Converts to a dictionary type.\n",
    "10. `frozenset()`: Converts to a frozenset type.\n",
    "11. `bytes()`: Converts to a bytes type.\n",
    "12. `bytearray()`: Converts to a bytearray type.\n",
    "13. `memoryview()`: Converts to a memoryview type.\n",
    "14. `range()`: Converts to a range type.\n",
    "15. `NoneType()`: Converts to a None type."
   ],
   "id": "ded874ab5fd4abfe"
  },
  {
   "metadata": {},
   "cell_type": "markdown",
   "source": "### <font color='green'>Converting to Integer</font>",
   "id": "882c9fb02433a4f3"
  },
  {
   "metadata": {
    "ExecuteTime": {
     "end_time": "2024-12-06T21:13:14.409135Z",
     "start_time": "2024-12-06T21:13:14.407091Z"
    }
   },
   "cell_type": "code",
   "source": [
    "x = 10.5 # float\n",
    "y = int(x) # converting to integer\n",
    "print(y)\n",
    "print(type(y))"
   ],
   "id": "f89f5288e2d3b26a",
   "outputs": [
    {
     "name": "stdout",
     "output_type": "stream",
     "text": [
      "10\n",
      "<class 'int'>\n"
     ]
    }
   ],
   "execution_count": 2
  },
  {
   "metadata": {},
   "cell_type": "markdown",
   "source": "### <font color='green'>Converting to Float</font>",
   "id": "bfaa32c6d799ad8"
  },
  {
   "metadata": {
    "ExecuteTime": {
     "end_time": "2024-12-06T21:13:14.454571Z",
     "start_time": "2024-12-06T21:13:14.452947Z"
    }
   },
   "cell_type": "code",
   "source": [
    "x = 10 # integer\n",
    "y = float(x) # converting to float\n",
    "print(y)\n",
    "print(type(y))"
   ],
   "id": "b262b24786a70f0",
   "outputs": [
    {
     "name": "stdout",
     "output_type": "stream",
     "text": [
      "10.0\n",
      "<class 'float'>\n"
     ]
    }
   ],
   "execution_count": 3
  },
  {
   "metadata": {},
   "cell_type": "markdown",
   "source": "### <font color='green'>Converting to String</font>",
   "id": "5623f95868b35985"
  },
  {
   "metadata": {
    "ExecuteTime": {
     "end_time": "2024-12-06T21:13:14.460896Z",
     "start_time": "2024-12-06T21:13:14.458807Z"
    }
   },
   "cell_type": "code",
   "source": [
    "x = 10 # integer\n",
    "y = str(x) # converting to string\n",
    "print(y)\n",
    "print(type(y))"
   ],
   "id": "a30fcc304cfc0e12",
   "outputs": [
    {
     "name": "stdout",
     "output_type": "stream",
     "text": [
      "10\n",
      "<class 'str'>\n"
     ]
    }
   ],
   "execution_count": 4
  },
  {
   "metadata": {},
   "cell_type": "markdown",
   "source": [
    "### <font color='green'>Converting to Boolean</font>\n",
    "\n",
    "In Python, the following values are considered `False`:\n",
    "1. `False`\n",
    "2. `None`\n",
    "3. `0` (integer)\n",
    "4. `0.0` (float)\n",
    "5. `0j` (complex)\n",
    "6. `\"\"` (empty string)\n",
    "7. `[]` (empty list)\n",
    "8. `()` (empty tuple)\n",
    "9. `{}` (empty dictionary)\n",
    "10. `set()` (empty set)\n",
    "11. `frozenset()` (empty frozenset)\n",
    "12. `range(0)` (empty range)\n",
    "13. `NoneType` (None)\n",
    "\n",
    "All other values are considered `True`."
   ],
   "id": "fde7390e3f91efbb"
  },
  {
   "metadata": {
    "ExecuteTime": {
     "end_time": "2024-12-06T21:13:14.473144Z",
     "start_time": "2024-12-06T21:13:14.471413Z"
    }
   },
   "cell_type": "code",
   "source": [
    "x = 10 # integer\n",
    "y = bool(x) # converting to boolean\n",
    "print(y)\n",
    "print(type(y))"
   ],
   "id": "3ec8076151a1022e",
   "outputs": [
    {
     "name": "stdout",
     "output_type": "stream",
     "text": [
      "True\n",
      "<class 'bool'>\n"
     ]
    }
   ],
   "execution_count": 5
  },
  {
   "metadata": {},
   "cell_type": "markdown",
   "source": "### <font color='green'>Converting to Complex</font>",
   "id": "f83d55eb7693d6db"
  },
  {
   "metadata": {
    "ExecuteTime": {
     "end_time": "2024-12-06T21:13:14.496827Z",
     "start_time": "2024-12-06T21:13:14.494739Z"
    }
   },
   "cell_type": "code",
   "source": [
    "x = 10 # integer\n",
    "y = complex(x) # converting to complex\n",
    "print(y)\n",
    "print(type(y))"
   ],
   "id": "37366c548560ee17",
   "outputs": [
    {
     "name": "stdout",
     "output_type": "stream",
     "text": [
      "(10+0j)\n",
      "<class 'complex'>\n"
     ]
    }
   ],
   "execution_count": 6
  },
  {
   "metadata": {},
   "cell_type": "markdown",
   "source": "### <font color='green'>Converting to List</font>",
   "id": "e1d021d635bc3983"
  },
  {
   "metadata": {
    "ExecuteTime": {
     "end_time": "2024-12-06T21:13:14.512547Z",
     "start_time": "2024-12-06T21:13:14.510245Z"
    }
   },
   "cell_type": "code",
   "source": [
    "x = (10, 20, 30) # tuple\n",
    "y = list(x) # converting to list\n",
    "print(y)\n",
    "print(type(y))"
   ],
   "id": "68bfa7e3057919aa",
   "outputs": [
    {
     "name": "stdout",
     "output_type": "stream",
     "text": [
      "[10, 20, 30]\n",
      "<class 'list'>\n"
     ]
    }
   ],
   "execution_count": 7
  },
  {
   "metadata": {},
   "cell_type": "markdown",
   "source": "### <font color='green'>Converting to Tuple</font>",
   "id": "2f6a50c8657ed1da"
  },
  {
   "metadata": {
    "ExecuteTime": {
     "end_time": "2024-12-06T21:13:14.526001Z",
     "start_time": "2024-12-06T21:13:14.524040Z"
    }
   },
   "cell_type": "code",
   "source": [
    "x = [10, 20, 30] # list\n",
    "y = tuple(x) # converting to tuple\n",
    "print(y)\n",
    "print(type(y))"
   ],
   "id": "a159acee91973a19",
   "outputs": [
    {
     "name": "stdout",
     "output_type": "stream",
     "text": [
      "(10, 20, 30)\n",
      "<class 'tuple'>\n"
     ]
    }
   ],
   "execution_count": 8
  },
  {
   "metadata": {},
   "cell_type": "markdown",
   "source": "### <font color='green'>Converting to Set</font>",
   "id": "f076d46b1be79b9"
  },
  {
   "metadata": {
    "ExecuteTime": {
     "end_time": "2024-12-06T21:13:14.540597Z",
     "start_time": "2024-12-06T21:13:14.538761Z"
    }
   },
   "cell_type": "code",
   "source": [
    "x = [10, 20, 30, 10, 20, 30] # list\n",
    "y = set(x) # converting to set\n",
    "print(y)\n",
    "print(type(y))"
   ],
   "id": "99fc5c385dcfab33",
   "outputs": [
    {
     "name": "stdout",
     "output_type": "stream",
     "text": [
      "{10, 20, 30}\n",
      "<class 'set'>\n"
     ]
    }
   ],
   "execution_count": 9
  },
  {
   "metadata": {},
   "cell_type": "markdown",
   "source": "### <font color='green'>Converting to Dictionary</font>",
   "id": "ea0ffe2be2709830"
  },
  {
   "metadata": {
    "ExecuteTime": {
     "end_time": "2024-12-06T21:13:14.555954Z",
     "start_time": "2024-12-06T21:13:14.554224Z"
    }
   },
   "cell_type": "code",
   "source": [
    "x = [(\"name\", \"wasik\"), (\"age\", 23)] # list of tuples\n",
    "y = dict(x) # converting to dictionary\n",
    "print(y)\n",
    "print(type(y))"
   ],
   "id": "2283726b3ea11840",
   "outputs": [
    {
     "name": "stdout",
     "output_type": "stream",
     "text": [
      "{'name': 'wasik', 'age': 23}\n",
      "<class 'dict'>\n"
     ]
    }
   ],
   "execution_count": 10
  },
  {
   "metadata": {},
   "cell_type": "markdown",
   "source": "### <font color='green'>Converting to frozenset</font>",
   "id": "59ff5d72e77affef"
  },
  {
   "metadata": {
    "ExecuteTime": {
     "end_time": "2024-12-06T21:13:14.569496Z",
     "start_time": "2024-12-06T21:13:14.567735Z"
    }
   },
   "cell_type": "code",
   "source": [
    "x = [10, 20, 30, 10, 20, 30] # list\n",
    "y = frozenset(x) # converting to frozenset\n",
    "print(y)\n",
    "print(type(y))"
   ],
   "id": "d2db5c1391ffdb5c",
   "outputs": [
    {
     "name": "stdout",
     "output_type": "stream",
     "text": [
      "frozenset({10, 20, 30})\n",
      "<class 'frozenset'>\n"
     ]
    }
   ],
   "execution_count": 11
  },
  {
   "metadata": {},
   "cell_type": "markdown",
   "source": "### <font color='green'>Converting to Bytes</font>",
   "id": "84c3a2c9bdd6a4f8"
  },
  {
   "metadata": {
    "ExecuteTime": {
     "end_time": "2024-12-06T21:13:14.583419Z",
     "start_time": "2024-12-06T21:13:14.580885Z"
    }
   },
   "cell_type": "code",
   "source": [
    "x = \"Python is fun!\" # string\n",
    "y = bytes(x, \"utf-8\") # converting to bytes\n",
    "print(y)\n",
    "print(type(y))"
   ],
   "id": "f2988f07a23710fb",
   "outputs": [
    {
     "name": "stdout",
     "output_type": "stream",
     "text": [
      "b'Python is fun!'\n",
      "<class 'bytes'>\n"
     ]
    }
   ],
   "execution_count": 12
  },
  {
   "metadata": {},
   "cell_type": "markdown",
   "source": "### <font color='green'>Converting to Bytearray</font>",
   "id": "b26b2f9f7cbf215f"
  },
  {
   "metadata": {
    "ExecuteTime": {
     "end_time": "2024-12-06T21:13:14.598512Z",
     "start_time": "2024-12-06T21:13:14.596774Z"
    }
   },
   "cell_type": "code",
   "source": [
    "x = \"Python is fun!\" # string\n",
    "y = bytearray(x, \"utf-8\") # converting to bytearray\n",
    "print(y)\n",
    "print(type(y))"
   ],
   "id": "2dcd21b2a4e19bd8",
   "outputs": [
    {
     "name": "stdout",
     "output_type": "stream",
     "text": [
      "bytearray(b'Python is fun!')\n",
      "<class 'bytearray'>\n"
     ]
    }
   ],
   "execution_count": 13
  },
  {
   "metadata": {},
   "cell_type": "markdown",
   "source": "### <font color='green'>Converting to Memoryview</font>",
   "id": "f4b8c5618ef15772"
  },
  {
   "metadata": {
    "ExecuteTime": {
     "end_time": "2024-12-06T21:13:14.612630Z",
     "start_time": "2024-12-06T21:13:14.610029Z"
    }
   },
   "cell_type": "code",
   "source": [
    "x = \"Python is fun!\" # string\n",
    "y = memoryview(x.encode()) # converting to memoryview\n",
    "print(y)\n",
    "print(type(y))"
   ],
   "id": "ad24a3d491a7bf63",
   "outputs": [
    {
     "name": "stdout",
     "output_type": "stream",
     "text": [
      "<memory at 0x105acde40>\n",
      "<class 'memoryview'>\n"
     ]
    }
   ],
   "execution_count": 14
  },
  {
   "metadata": {},
   "cell_type": "markdown",
   "source": "### <font color='green'>Converting to Range</font>",
   "id": "1041faa9e1e486a1"
  },
  {
   "metadata": {
    "ExecuteTime": {
     "end_time": "2024-12-06T21:13:14.625387Z",
     "start_time": "2024-12-06T21:13:14.623523Z"
    }
   },
   "cell_type": "code",
   "source": [
    "x = 5 # integer\n",
    "y = range(x) # converting to range\n",
    "print(y)\n",
    "print(type(y))"
   ],
   "id": "73de32ef0b7d896c",
   "outputs": [
    {
     "name": "stdout",
     "output_type": "stream",
     "text": [
      "range(0, 5)\n",
      "<class 'range'>\n"
     ]
    }
   ],
   "execution_count": 15
  }
 ],
 "metadata": {
  "kernelspec": {
   "display_name": "Python 3",
   "language": "python",
   "name": "python3"
  },
  "language_info": {
   "codemirror_mode": {
    "name": "ipython",
    "version": 2
   },
   "file_extension": ".py",
   "mimetype": "text/x-python",
   "name": "python",
   "nbconvert_exporter": "python",
   "pygments_lexer": "ipython2",
   "version": "2.7.6"
  }
 },
 "nbformat": 4,
 "nbformat_minor": 5
}
