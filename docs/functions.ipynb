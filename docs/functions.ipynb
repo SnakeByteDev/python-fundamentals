{
 "cells": [
  {
   "metadata": {},
   "cell_type": "markdown",
   "source": "# Python Functions",
   "id": "4a42882e2ab1b97f"
  },
  {
   "metadata": {},
   "cell_type": "markdown",
   "source": [
    "## Function\n",
    "A function is a reusable block of code that performs a specific task. Functions organize code into logical blocks and make it easy to reuse and maintain."
   ],
   "id": "fc8b9bf94df50689"
  },
  {
   "metadata": {},
   "cell_type": "markdown",
   "source": [
    "## Creating a Function\n",
    "\n",
    "In Python, a function is defined using the `def` keyword followed by the function name and parentheses `()`. The function body starts with a colon `:` and is indented.\n",
    "\n",
    "The general syntax of a function:\n",
    "\n",
    "```\n",
    "def function_name(parameters):\n",
    "    # block of code\n",
    "    return value\n",
    "```"
   ],
   "id": "7e1f631140c1ef50"
  },
  {
   "metadata": {
    "ExecuteTime": {
     "end_time": "2024-12-25T12:47:21.922648Z",
     "start_time": "2024-12-25T12:47:21.918200Z"
    }
   },
   "cell_type": "code",
   "source": [
    "# Example: A simple function that prints \"Hello, World\"\n",
    "\n",
    "def greet():\n",
    "    print(\"Hello, World!\")"
   ],
   "id": "d27f98353b2ac62c",
   "outputs": [],
   "execution_count": 1
  },
  {
   "metadata": {},
   "cell_type": "markdown",
   "source": [
    "## Calling a Function\n",
    "\n",
    "To call a function, simply write the function name followed by parentheses `()`.\n"
   ],
   "id": "5e36ad726ad508c4"
  },
  {
   "metadata": {
    "ExecuteTime": {
     "end_time": "2024-12-25T12:47:21.933494Z",
     "start_time": "2024-12-25T12:47:21.930667Z"
    }
   },
   "cell_type": "code",
   "source": [
    "# Calling the greet() function\n",
    "\n",
    "greet()"
   ],
   "id": "c2a93a1237bd4619",
   "outputs": [
    {
     "name": "stdout",
     "output_type": "stream",
     "text": [
      "Hello, World!\n"
     ]
    }
   ],
   "execution_count": 2
  },
  {
   "metadata": {},
   "cell_type": "markdown",
   "source": [
    "## Function Parameters\n",
    "\n",
    "Parameters are values that are passed to the function when it is called. The function can use these values to perform a specific task. Parameters are defined inside the parentheses `()` in the function definition. Multiple parameters are separated by commas."
   ],
   "id": "e87cdfd00ebe2842"
  },
  {
   "metadata": {
    "ExecuteTime": {
     "end_time": "2024-12-25T12:47:21.982839Z",
     "start_time": "2024-12-25T12:47:21.980315Z"
    }
   },
   "cell_type": "code",
   "source": [
    "# Example: A function that takes two parameters and prints their sum\n",
    "\n",
    "def add(a, b):\n",
    "    print(a + b)\n",
    "\n",
    "# Calling the add() function with arguments 5 and 3\n",
    "add(5, 3)"
   ],
   "id": "f2968c6faaf627b1",
   "outputs": [
    {
     "name": "stdout",
     "output_type": "stream",
     "text": [
      "8\n"
     ]
    }
   ],
   "execution_count": 3
  },
  {
   "metadata": {
    "ExecuteTime": {
     "end_time": "2024-12-25T12:47:22.005162Z",
     "start_time": "2024-12-25T12:47:22.002528Z"
    }
   },
   "cell_type": "code",
   "source": [
    "# Example: A function that takes a string and an integer as parameters and prints the string multiple times\n",
    "\n",
    "def print_string(s, n):\n",
    "    print(s * n)\n",
    "\n",
    "# Calling the print_string() function with arguments \"Hello\" and 3\n",
    "print_string(\"Hello\", 3)"
   ],
   "id": "5e9ca093237a2cdf",
   "outputs": [
    {
     "name": "stdout",
     "output_type": "stream",
     "text": [
      "HelloHelloHello\n"
     ]
    }
   ],
   "execution_count": 4
  },
  {
   "metadata": {},
   "cell_type": "markdown",
   "source": [
    "### Default Parameters\n",
    "\n",
    "A default parameter is a parameter that assumes a default value if a value is not provided in the function call. Default parameters are used when the function is called without passing the value for that parameter. Default parameters are defined in the function definition."
   ],
   "id": "a1ce6726b8c4b0ff"
  },
  {
   "metadata": {
    "ExecuteTime": {
     "end_time": "2024-12-25T12:47:22.018100Z",
     "start_time": "2024-12-25T12:47:22.015824Z"
    }
   },
   "cell_type": "code",
   "source": [
    "# Example: A function that calculates the area of a rectangle with a default height\n",
    "\n",
    "def calculate_area(width, height=10):\n",
    "    return width * height\n",
    "\n",
    "# Calling the calculate_area() function without the height argument\n",
    "area1 = calculate_area(5)  # Uses the default height of 10\n",
    "print(\"Area with default height:\", area1)  # Output: Area with default height: 50\n",
    "\n",
    "# Calling the calculate_area() function with both width and height arguments\n",
    "area2 = calculate_area(5, 20)  # Uses the provided height of 20\n",
    "print(\"Area with provided height:\", area2)  # Output: Area with provided height: 100"
   ],
   "id": "7130ccb37abc325b",
   "outputs": [
    {
     "name": "stdout",
     "output_type": "stream",
     "text": [
      "Area with default height: 50\n",
      "Area with provided height: 100\n"
     ]
    }
   ],
   "execution_count": 5
  },
  {
   "metadata": {},
   "cell_type": "markdown",
   "source": [
    "## Return Statement\n",
    "\n",
    "The `return` statement is used to return a value of any data type from a function. The function can use this value to provide the output of the function. If the `return` statement is not used, the function returns `None` by default. The function execution stops when the `return` statement is encountered. The `return` statement can return multiple values separated by commas."
   ],
   "id": "aa2a53048d15ab8f"
  },
  {
   "metadata": {
    "ExecuteTime": {
     "end_time": "2024-12-25T12:47:22.039699Z",
     "start_time": "2024-12-25T12:47:22.035257Z"
    }
   },
   "cell_type": "code",
   "source": [
    "# Example: A function that returns if a number is even or odd\n",
    "\n",
    "def even_or_odd(num):\n",
    "    if num % 2 == 0:\n",
    "        return \"Even\"\n",
    "    else:\n",
    "        return \"Odd\"\n",
    "\n",
    "# Calling the even_or_odd() function with argument 7\n",
    "result = even_or_odd(7) # stores the return value in the variable result\n",
    "print(result)"
   ],
   "id": "804b090d8796190a",
   "outputs": [
    {
     "name": "stdout",
     "output_type": "stream",
     "text": [
      "Odd\n"
     ]
    }
   ],
   "execution_count": 6
  },
  {
   "metadata": {
    "ExecuteTime": {
     "end_time": "2024-12-25T12:47:22.062041Z",
     "start_time": "2024-12-25T12:47:22.059310Z"
    }
   },
   "cell_type": "code",
   "source": [
    "# Example: A function that returns the sum and difference of two numbers\n",
    "\n",
    "def sum_diff(a, b):\n",
    "    return a + b, a - b\n",
    "\n",
    "# Calling the sum_diff() function with arguments 10 and 5\n",
    "sum, diff = sum_diff(10, 5) # stores the return values in the variables sum and diff\n",
    "print(\"Sum:\", sum)\n",
    "print(\"Difference:\", diff)"
   ],
   "id": "d1e73eb6039d6bf3",
   "outputs": [
    {
     "name": "stdout",
     "output_type": "stream",
     "text": [
      "Sum: 15\n",
      "Difference: 5\n"
     ]
    }
   ],
   "execution_count": 7
  },
  {
   "metadata": {},
   "cell_type": "markdown",
   "source": [
    "## Built-in Functions\n",
    "\n",
    "Python provides many built-in functions that are readily available for use. These functions are part of the Python Standard Library and do not require any import statement to use them. Some commonly used built-in functions are `print()`, `len()`, `type()`, `int()`, `str()`, `float()`, `input()`, `range()`, `abs()`, `max()`, `min()`, `sum()`, `sorted()`, `reversed()`, `enumerate()`, `zip()`, `map()`, `filter()`, `all()`, `any()`, `eval()`, `format()`, `open()`, `read()`, `write()`, `close()` etc."
   ],
   "id": "87bc592ec3a8f3ff"
  }
 ],
 "metadata": {
  "kernelspec": {
   "display_name": "Python 3",
   "language": "python",
   "name": "python3"
  },
  "language_info": {
   "codemirror_mode": {
    "name": "ipython",
    "version": 2
   },
   "file_extension": ".py",
   "mimetype": "text/x-python",
   "name": "python",
   "nbconvert_exporter": "python",
   "pygments_lexer": "ipython2",
   "version": "2.7.6"
  }
 },
 "nbformat": 4,
 "nbformat_minor": 5
}
