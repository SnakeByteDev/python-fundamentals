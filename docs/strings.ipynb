{
 "cells": [
  {
   "metadata": {},
   "cell_type": "markdown",
   "source": "# Python Strings",
   "id": "10f0fd13b7b1aced"
  },
  {
   "metadata": {},
   "cell_type": "markdown",
   "source": [
    "## Strings\n",
    "\n",
    "In Python, Strings are sequences of characters enclosed in single, double, or triple quotes. Strings are used to store text data. Strings are immutable, which means that once a string is created, it cannot be changed."
   ],
   "id": "3d89dd598af030ee"
  },
  {
   "metadata": {},
   "cell_type": "markdown",
   "source": "## Creating Strings",
   "id": "218f271fe8ff7b7a"
  },
  {
   "metadata": {
    "ExecuteTime": {
     "end_time": "2024-12-06T22:08:41.269134Z",
     "start_time": "2024-12-06T22:08:41.264044Z"
    }
   },
   "cell_type": "code",
   "source": [
    "# Single Quotes\n",
    "single_quote_str = 'Hello, World!'\n",
    "print(single_quote_str)\n",
    "\n",
    "# Double Quotes\n",
    "double_quote_str = \"Hello, World!\"\n",
    "print(double_quote_str)\n",
    "\n",
    "# Triple Quotes\n",
    "triple_quote_str = '''Hello, World!'''\n",
    "print(triple_quote_str)\n",
    "\n",
    "# Triple Quotes for Multi-line Strings\n",
    "multi_line_str = '''This is a multi-line string.\n",
    "It spans multiple lines.\n",
    "Each line is separated by a newline character.'''\n",
    "print(multi_line_str)"
   ],
   "id": "9a854175bf8604db",
   "outputs": [
    {
     "name": "stdout",
     "output_type": "stream",
     "text": [
      "Hello, World!\n",
      "Hello, World!\n",
      "Hello, World!\n",
      "This is a multi-line string.\n",
      "It spans multiple lines.\n",
      "Each line is separated by a newline character.\n"
     ]
    }
   ],
   "execution_count": 1
  },
  {
   "metadata": {},
   "cell_type": "markdown",
   "source": "## String Operations",
   "id": "7d2aa98ea1d6768d"
  },
  {
   "metadata": {},
   "cell_type": "markdown",
   "source": [
    "### <font color='green'>Concatenation</font>\n",
    "\n",
    "Strings can be concatenated using the `+` operator."
   ],
   "id": "8c5c389b5e17885c"
  },
  {
   "metadata": {
    "ExecuteTime": {
     "end_time": "2024-12-06T22:08:41.278819Z",
     "start_time": "2024-12-06T22:08:41.276389Z"
    }
   },
   "cell_type": "code",
   "source": [
    "first_name = \"Wasik\"\n",
    "last_name = \"Ahmed\"\n",
    "full_name = first_name + \" \" + last_name\n",
    "print(full_name)"
   ],
   "id": "1b5b863990332ca4",
   "outputs": [
    {
     "name": "stdout",
     "output_type": "stream",
     "text": [
      "Wasik Ahmed\n"
     ]
    }
   ],
   "execution_count": 2
  },
  {
   "metadata": {},
   "cell_type": "markdown",
   "source": [
    "### <font color='green'>Repetition</font>\n",
    "\n",
    "Strings can be repeated using the `*` operator."
   ],
   "id": "187f0c3af6f068db"
  },
  {
   "metadata": {
    "ExecuteTime": {
     "end_time": "2024-12-06T22:08:41.328744Z",
     "start_time": "2024-12-06T22:08:41.327156Z"
    }
   },
   "cell_type": "code",
   "source": [
    "name = \"Wasik \"\n",
    "repeated_name = name * 3\n",
    "print(repeated_name)"
   ],
   "id": "736b04a4d6802043",
   "outputs": [
    {
     "name": "stdout",
     "output_type": "stream",
     "text": [
      "Wasik Wasik Wasik \n"
     ]
    }
   ],
   "execution_count": 3
  },
  {
   "metadata": {},
   "cell_type": "markdown",
   "source": [
    "### <font color='green'>Indexing</font>\n",
    "\n",
    "Strings can be indexed using the `[]` operator. Index can be positive or negative. Positive index starts from `0` and negative index starts from `-1`."
   ],
   "id": "3994ca93544726b8"
  },
  {
   "metadata": {
    "ExecuteTime": {
     "end_time": "2024-12-06T22:08:41.334428Z",
     "start_time": "2024-12-06T22:08:41.332659Z"
    }
   },
   "cell_type": "code",
   "source": [
    "# Positive Indexing\n",
    "name = \"Wasik\"\n",
    "print(name[0]) # first character\n",
    "print(name[1]) # second character\n",
    "\n",
    "# Negative Indexing\n",
    "print(name[-1]) # last character\n",
    "print(name[-2]) # second last character"
   ],
   "id": "3def8ab496dbb7df",
   "outputs": [
    {
     "name": "stdout",
     "output_type": "stream",
     "text": [
      "W\n",
      "a\n",
      "k\n",
      "i\n"
     ]
    }
   ],
   "execution_count": 4
  },
  {
   "metadata": {},
   "cell_type": "markdown",
   "source": [
    "### <font color='green'>Slicing</font>\n",
    "\n",
    "Strings can be sliced using the `:` operator. Slicing returns a substring from the original string.\n",
    "\n",
    "Syntax: `string[start:stop:step]`"
   ],
   "id": "3c4ca83f4cc32b1e"
  },
  {
   "metadata": {
    "ExecuteTime": {
     "end_time": "2024-12-06T22:08:41.349726Z",
     "start_time": "2024-12-06T22:08:41.347695Z"
    }
   },
   "cell_type": "code",
   "source": [
    "name = \"Wasik Ahmed\"\n",
    "print(name[0:5]) # from index 0 to 4\n",
    "print(name[6:]) # from index 6 to end\n",
    "print(name[:5]) # from start to index 4\n",
    "print(name[::2]) # from start to end with a step of 2"
   ],
   "id": "94d3812dedf90b21",
   "outputs": [
    {
     "name": "stdout",
     "output_type": "stream",
     "text": [
      "Wasik\n",
      "Ahmed\n",
      "Wasik\n",
      "WskAmd\n"
     ]
    }
   ],
   "execution_count": 5
  },
  {
   "metadata": {},
   "cell_type": "markdown",
   "source": [
    "### <font color='green'>Length</font>\n",
    "\n",
    "The `len()` function is used to get the length of a string."
   ],
   "id": "d9325384b04bdcd"
  },
  {
   "metadata": {
    "ExecuteTime": {
     "end_time": "2024-12-06T22:08:41.368697Z",
     "start_time": "2024-12-06T22:08:41.366624Z"
    }
   },
   "cell_type": "code",
   "source": [
    "txt = \"Hello, World!\"\n",
    "print(len(txt))"
   ],
   "id": "d57fcac4231c79d9",
   "outputs": [
    {
     "name": "stdout",
     "output_type": "stream",
     "text": [
      "13\n"
     ]
    }
   ],
   "execution_count": 6
  },
  {
   "metadata": {},
   "cell_type": "markdown",
   "source": [
    "### <font color='green'>Membership</font>\n",
    "\n",
    "The `in` and `not in` operators are used to check if a substring is present in a string."
   ],
   "id": "4a63c36a50a596d3"
  },
  {
   "metadata": {
    "ExecuteTime": {
     "end_time": "2024-12-06T22:08:41.388525Z",
     "start_time": "2024-12-06T22:08:41.386057Z"
    }
   },
   "cell_type": "code",
   "source": [
    "txt = \"Hello, World!\"\n",
    "print(\"Hello\" in txt)\n",
    "print(\"Python\" not in txt)"
   ],
   "id": "f527f3a66c92a0e8",
   "outputs": [
    {
     "name": "stdout",
     "output_type": "stream",
     "text": [
      "True\n",
      "True\n"
     ]
    }
   ],
   "execution_count": 7
  },
  {
   "metadata": {},
   "cell_type": "markdown",
   "source": [
    "### <font color='green'>Case Conversion</font>\n",
    "\n",
    "The `lower()`, `upper()`, `title()`, `capitalize()`, and `swapcase()` methods are used to convert the case of a string."
   ],
   "id": "7a1bc79ec698c32c"
  },
  {
   "metadata": {
    "ExecuteTime": {
     "end_time": "2024-12-06T22:08:41.403959Z",
     "start_time": "2024-12-06T22:08:41.401622Z"
    }
   },
   "cell_type": "code",
   "source": [
    "txt = \"hello, World!\"\n",
    "print(txt.lower()) # convert to lowercase\n",
    "print(txt.upper()) # convert to uppercase\n",
    "print(txt.title()) # convert to title case\n",
    "print(txt.capitalize()) # capitalize the first character\n",
    "print(txt.swapcase()) # swap the case of each character"
   ],
   "id": "c18f1b7c4fb81bf5",
   "outputs": [
    {
     "name": "stdout",
     "output_type": "stream",
     "text": [
      "hello, world!\n",
      "HELLO, WORLD!\n",
      "Hello, World!\n",
      "Hello, world!\n",
      "HELLO, wORLD!\n"
     ]
    }
   ],
   "execution_count": 8
  },
  {
   "metadata": {},
   "cell_type": "markdown",
   "source": [
    "### <font color='green'>String Formatting</font>\n",
    "\n",
    "The `format()` method is used to format strings. It replaces placeholders `{}` with the values passed as arguments.\n",
    "\n",
    "Syntax: `string.format(value1, value2, ...)`\n",
    "\n",
    "The `f-string` is also used to format strings. It is a more concise and readable way to format strings.\n",
    "\n",
    "Syntax: `f\"string {value1} {value2} ...\"`"
   ],
   "id": "c89ebe5fffe17a94"
  },
  {
   "metadata": {
    "ExecuteTime": {
     "end_time": "2024-12-06T22:08:41.414616Z",
     "start_time": "2024-12-06T22:08:41.412196Z"
    }
   },
   "cell_type": "code",
   "source": [
    "name = \"Wasik\"\n",
    "age = 23\n",
    "\n",
    "# Using format() method\n",
    "txt = \"My name is {} and I am {} years old.\"\n",
    "print(txt.format(name, age))\n",
    "\n",
    "# Using f-string\n",
    "txt = f\"My name is {name} and I am {age} years old.\"\n",
    "print(txt)"
   ],
   "id": "c82f52cd0c9eec3",
   "outputs": [
    {
     "name": "stdout",
     "output_type": "stream",
     "text": [
      "My name is Wasik and I am 23 years old.\n",
      "My name is Wasik and I am 23 years old.\n"
     ]
    }
   ],
   "execution_count": 9
  },
  {
   "metadata": {},
   "cell_type": "markdown",
   "source": [
    "## Escape Characters\n",
    "\n",
    "Escape characters are used to insert characters that are illegal in a string. They are preceded by a backslash `\\`. Some common escape characters are: `\\n`, `\\t`, `\\\\`, `\\'`, `\\\"`."
   ],
   "id": "b854b0306f2c1d8c"
  },
  {
   "metadata": {
    "ExecuteTime": {
     "end_time": "2024-12-06T22:08:41.430719Z",
     "start_time": "2024-12-06T22:08:41.428265Z"
    }
   },
   "cell_type": "code",
   "source": [
    "txt = \"Hello\\nWorld!\" # newline\n",
    "print(txt)\n",
    "\n",
    "txt = \"Hello\\tWorld!\" # tab\n",
    "print(txt)\n",
    "\n",
    "txt = \"Hello\\\\World!\" # backslash\n",
    "print(txt)\n",
    "\n",
    "txt = \"Hello\\'World!\" # single quote\n",
    "print(txt)\n",
    "\n",
    "txt = \"Hello\\\"World!\" # double quote\n",
    "print(txt)\n",
    "\n",
    "txt = \"Hello\\bWorld!\" # backspace\n",
    "print(txt)"
   ],
   "id": "f3b3716f21cea389",
   "outputs": [
    {
     "name": "stdout",
     "output_type": "stream",
     "text": [
      "Hello\n",
      "World!\n",
      "Hello\tWorld!\n",
      "Hello\\World!\n",
      "Hello'World!\n",
      "Hello\"World!\n",
      "HellWorld!\n"
     ]
    }
   ],
   "execution_count": 10
  },
  {
   "metadata": {},
   "cell_type": "markdown",
   "source": [
    "## Raw Strings\n",
    "\n",
    "Raw strings are used to ignore escape characters. They are prefixed with `r` or `R`. Raw strings are useful when working with regular expressions."
   ],
   "id": "8b967f45b9f08ee9"
  },
  {
   "metadata": {
    "ExecuteTime": {
     "end_time": "2024-12-06T22:08:41.445596Z",
     "start_time": "2024-12-06T22:08:41.443844Z"
    }
   },
   "cell_type": "code",
   "source": [
    "txt = r\"Hello\\nWorld!\"\n",
    "print(txt)"
   ],
   "id": "8355cde12eb07101",
   "outputs": [
    {
     "name": "stdout",
     "output_type": "stream",
     "text": [
      "Hello\\nWorld!\n"
     ]
    }
   ],
   "execution_count": 11
  },
  {
   "metadata": {},
   "cell_type": "markdown",
   "source": [
    "## String Methods\n",
    "\n",
    "Python has many built-in methods that can be used to manipulate strings. Some common string methods are:\n",
    "\n",
    "1. `capitalize()`: Converts the first character of a string to uppercase.\n",
    "2. `casefold()`: Converts a string to lowercase.\n",
    "3. `center(width)`: Returns a centered string.\n",
    "4. `count(substring)`: Returns the number of occurrences of a substring in a string.\n",
    "5. `endswith(suffix)`: Returns `True` if a string ends with a specified suffix.\n",
    "6. `find(substring)`: Searches the string for a specified value and returns the position of where it was found.\n",
    "7. `format()`: Formats the string.\n",
    "8. `isalnum()`: Returns `True` if all characters in a string are alphanumeric.\n",
    "9. `isalpha()`: Returns `True` if all characters in a string are in the alphabet.\n",
    "10. `isdigit()`: Returns `True` if all characters in a string are digits.\n",
    "11. `islower()`: Returns `True` if all characters in a string are lowercase.\n",
    "12. `isspace()`: Returns `True` if all characters in a string are whitespaces.\n",
    "13. `istitle()`: Returns `True` if the string follows the rules of a title.\n",
    "14. `isupper()`: Returns `True` if all characters in a string are uppercase.\n",
    "15. `join(iterable)`: Joins the elements of an iterable to the end of the string.\n",
    "16. `lower()`: Converts a string to lowercase.\n",
    "17. `replace(old, new)`: Replaces a specified value with another value in a string.\n",
    "18. `split(separator)`: Splits the string at the specified separator and returns a list.\n",
    "19. `startswith(prefix)`: Returns `True` if the string starts with a specified prefix.\n",
    "20. `strip()`: Returns a trimmed version of the string.\n",
    "21. `upper()`: Converts a string to uppercase."
   ],
   "id": "538c0519ea6766f4"
  }
 ],
 "metadata": {
  "kernelspec": {
   "display_name": "Python 3",
   "language": "python",
   "name": "python3"
  },
  "language_info": {
   "codemirror_mode": {
    "name": "ipython",
    "version": 2
   },
   "file_extension": ".py",
   "mimetype": "text/x-python",
   "name": "python",
   "nbconvert_exporter": "python",
   "pygments_lexer": "ipython2",
   "version": "2.7.6"
  }
 },
 "nbformat": 4,
 "nbformat_minor": 5
}
