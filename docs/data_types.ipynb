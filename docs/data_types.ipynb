{
 "cells": [
  {
   "metadata": {},
   "cell_type": "markdown",
   "source": "# Python Data Types",
   "id": "4b1ba46d29ad19c8"
  },
  {
   "metadata": {},
   "cell_type": "markdown",
   "source": [
    "## Data Types\n",
    "Data types are used to represent the type of data stored in a variable. Data types are classes and variables are instances of these classes.\n",
    "\n",
    "Python has the following built-in data types:\n",
    "\n",
    "1. Numeric Types: `int`, `float`, `complex`\n",
    "2. String Type: `str`\n",
    "3. Sequence Types: `list`, `tuple`, `range`\n",
    "4. Mapping Type: `dict`\n",
    "5. Set Types: `set`, `frozenset`\n",
    "6. Boolean Type: `bool`\n",
    "7. Binary Types: `bytes`, `bytearray`, `memoryview`\n",
    "8. None Type: `NoneType`"
   ],
   "id": "1f36c1551dc9ae93"
  },
  {
   "metadata": {},
   "cell_type": "markdown",
   "source": [
    "## Checking Data Type\n",
    "\n",
    "The built-in `type()` function is used to check the data type of a variable."
   ],
   "id": "df315b7911248bc6"
  },
  {
   "metadata": {
    "ExecuteTime": {
     "end_time": "2024-12-06T20:49:27.200610Z",
     "start_time": "2024-12-06T20:49:27.196223Z"
    }
   },
   "cell_type": "code",
   "source": [
    "x = 10 # int\n",
    "print(type(x))"
   ],
   "id": "5482c5bc925ac2af",
   "outputs": [
    {
     "name": "stdout",
     "output_type": "stream",
     "text": [
      "<class 'int'>\n"
     ]
    }
   ],
   "execution_count": 1
  },
  {
   "metadata": {},
   "cell_type": "markdown",
   "source": "## Different Data Types",
   "id": "b32d98bbe82d7cd2"
  },
  {
   "metadata": {},
   "cell_type": "markdown",
   "source": [
    "### <font color='green'>Numeric Types</font>\n",
    "\n",
    "Numeric types are used to store numeric values. Python has three numeric types: `int`, `float`, and `complex`.\n",
    "\n",
    "1. `int`: Integer type represents whole numbers. For example, `10`, `-5`, `1000`, etc.\n",
    "2. `float`: Float type represents floating-point numbers. For example, `3.14`, `2.718`, etc.\n",
    "3. `complex`: Complex type represents complex numbers. For example, `3 + 4j`, `5 - 2j`, etc."
   ],
   "id": "4e3338e932906d49"
  },
  {
   "metadata": {
    "ExecuteTime": {
     "end_time": "2024-12-06T20:49:27.208315Z",
     "start_time": "2024-12-06T20:49:27.205947Z"
    }
   },
   "cell_type": "code",
   "source": [
    "# Integer\n",
    "x = 10\n",
    "print(type(x))\n",
    "\n",
    "# Float\n",
    "y = 3.14\n",
    "print(type(y))\n",
    "\n",
    "# Complex\n",
    "z = 5 + 2j\n",
    "print(type(z))"
   ],
   "id": "6816788f598cf97c",
   "outputs": [
    {
     "name": "stdout",
     "output_type": "stream",
     "text": [
      "<class 'int'>\n",
      "<class 'float'>\n",
      "<class 'complex'>\n"
     ]
    }
   ],
   "execution_count": 2
  },
  {
   "metadata": {},
   "cell_type": "markdown",
   "source": [
    "### <font color='green'>String Type</font>\n",
    "\n",
    "The string type is used to store text data. Strings are immutable sequences of characters enclosed in single, double, or triple quotes."
   ],
   "id": "65647b4ef1d3189a"
  },
  {
   "metadata": {
    "ExecuteTime": {
     "end_time": "2024-12-06T20:49:27.252751Z",
     "start_time": "2024-12-06T20:49:27.250966Z"
    }
   },
   "cell_type": "code",
   "source": [
    "txt = \"Hello, World!\"\n",
    "print(type(txt))"
   ],
   "id": "3c494ec5a3d30945",
   "outputs": [
    {
     "name": "stdout",
     "output_type": "stream",
     "text": [
      "<class 'str'>\n"
     ]
    }
   ],
   "execution_count": 3
  },
  {
   "metadata": {},
   "cell_type": "markdown",
   "source": [
    "### <font color='green'>Sequence Types</font>\n",
    "\n",
    "Sequence types are used to store multiple items in an ordered collection. Python has three built-in sequence types: `list`, `tuple`, and `range`.\n",
    "\n",
    "1. `list`: List is a collection of items separated by commas and enclosed within square brackets. Lists are mutable.\n",
    "2. `tuple`: Tuple is a collection of items separated by commas and enclosed within parentheses. Tuples are immutable.\n",
    "3. `range`: Range is used to generate a sequence of numbers. It is immutable.\n",
    "\n",
    "_Note:_ Strings are also considered as sequence types."
   ],
   "id": "f1120d890366a133"
  },
  {
   "metadata": {
    "ExecuteTime": {
     "end_time": "2024-12-06T20:49:27.259462Z",
     "start_time": "2024-12-06T20:49:27.257388Z"
    }
   },
   "cell_type": "code",
   "source": [
    "# List\n",
    "names = [\"wasik\", \"ahmed\", \"apon\"]\n",
    "print(type(names))\n",
    "\n",
    "# Tuple\n",
    "student = (\"wasik\", 23, True)\n",
    "print(type(student))\n",
    "\n",
    "# Range\n",
    "nums = range(5)\n",
    "print(type(nums))"
   ],
   "id": "a10cb9bfd44663c6",
   "outputs": [
    {
     "name": "stdout",
     "output_type": "stream",
     "text": [
      "<class 'list'>\n",
      "<class 'tuple'>\n",
      "<class 'range'>\n"
     ]
    }
   ],
   "execution_count": 4
  },
  {
   "metadata": {},
   "cell_type": "markdown",
   "source": [
    "### <font color='green'>Mapping Type</font>\n",
    "\n",
    "Mapping types are used to store key-value pairs. Python has one built-in mapping type: `dict`.\n",
    "\n",
    "1. `dict`: Dictionary is a collection of key-value pairs separated by commas and enclosed within curly braces. Dictionaries are mutable."
   ],
   "id": "c383feb8cc0ddde5"
  },
  {
   "metadata": {
    "ExecuteTime": {
     "end_time": "2024-12-06T20:49:27.269713Z",
     "start_time": "2024-12-06T20:49:27.267266Z"
    }
   },
   "cell_type": "code",
   "source": [
    "# Dictionary\n",
    "person = {\"name\": \"wasik\", \"age\": 23, \"is_regular\": True}\n",
    "print(type(person))"
   ],
   "id": "e8f2ec17c5af5624",
   "outputs": [
    {
     "name": "stdout",
     "output_type": "stream",
     "text": [
      "<class 'dict'>\n"
     ]
    }
   ],
   "execution_count": 5
  },
  {
   "metadata": {},
   "cell_type": "markdown",
   "source": [
    "### <font color='green'>Set Types</font>\n",
    "\n",
    "Set types are used to store unique items. Python has two built-in set types: `set` and `frozenset`.\n",
    "\n",
    "1. `set`: Set is a collection of unique items separated by commas and enclosed within curly braces. Sets are mutable.\n",
    "2. `frozenset`: Frozenset is an immutable set."
   ],
   "id": "2e32ff66c2668894"
  },
  {
   "metadata": {
    "ExecuteTime": {
     "end_time": "2024-12-06T20:49:27.286852Z",
     "start_time": "2024-12-06T20:49:27.284502Z"
    }
   },
   "cell_type": "code",
   "source": [
    "# Set\n",
    "colors = {\"red\", \"green\", \"blue\"}\n",
    "print(type(colors))\n",
    "\n",
    "# Frozenset\n",
    "frozen_colors = frozenset(colors)\n",
    "print(type(frozen_colors))"
   ],
   "id": "64dab6c35da84c03",
   "outputs": [
    {
     "name": "stdout",
     "output_type": "stream",
     "text": [
      "<class 'set'>\n",
      "<class 'frozenset'>\n"
     ]
    }
   ],
   "execution_count": 6
  },
  {
   "metadata": {},
   "cell_type": "markdown",
   "source": [
    "### <font color='green'>Boolean Type</font>\n",
    "\n",
    "Boolean type is used to represent truth values. It has two values: `True` and `False`."
   ],
   "id": "edab6ae4753a47b9"
  },
  {
   "metadata": {
    "ExecuteTime": {
     "end_time": "2024-12-06T20:49:27.378184Z",
     "start_time": "2024-12-06T20:49:27.375915Z"
    }
   },
   "cell_type": "code",
   "source": [
    "is_student = True\n",
    "print(type(is_student))\n",
    "\n",
    "is_teacher = False\n",
    "print(type(is_teacher))"
   ],
   "id": "7c99b56c1ff83a69",
   "outputs": [
    {
     "name": "stdout",
     "output_type": "stream",
     "text": [
      "<class 'bool'>\n",
      "<class 'bool'>\n"
     ]
    }
   ],
   "execution_count": 7
  },
  {
   "metadata": {},
   "cell_type": "markdown",
   "source": [
    "### <font color='green'>Binary Types</font>\n",
    "\n",
    "Binary types are used to store binary data. Python has three built-in binary types: `bytes`, `bytearray`, and `memoryview`.\n",
    "\n",
    "1. `bytes`: Bytes type is used to store a sequence of bytes. Bytes are immutable.\n",
    "2. `bytearray`: Bytearray type is used to store a sequence of bytes. Bytearrays are mutable.\n",
    "3. `memoryview`: Memoryview type is used to access the internal data of an object that supports the buffer protocol."
   ],
   "id": "fe07144f1919d3b1"
  },
  {
   "metadata": {
    "ExecuteTime": {
     "end_time": "2024-12-06T20:49:27.401925Z",
     "start_time": "2024-12-06T20:49:27.398815Z"
    }
   },
   "cell_type": "code",
   "source": [
    "# Bytes\n",
    "data = b\"Hello\"\n",
    "print(type(data))\n",
    "\n",
    "# Bytearray\n",
    "byte_data = bytearray(data)\n",
    "print(type(byte_data))\n",
    "\n",
    "# Memoryview\n",
    "memory = memoryview(byte_data)\n",
    "print(type(memory))"
   ],
   "id": "73d9e70c60bd7b18",
   "outputs": [
    {
     "name": "stdout",
     "output_type": "stream",
     "text": [
      "<class 'bytes'>\n",
      "<class 'bytearray'>\n",
      "<class 'memoryview'>\n"
     ]
    }
   ],
   "execution_count": 8
  },
  {
   "metadata": {},
   "cell_type": "markdown",
   "source": [
    "### <font color='green'>None Type</font>\n",
    "\n",
    "None type is used to represent the absence of a value. It is used to define a null value or to indicate that a variable has no value."
   ],
   "id": "f64ce4c41c4e400a"
  },
  {
   "metadata": {
    "ExecuteTime": {
     "end_time": "2024-12-06T20:49:27.425183Z",
     "start_time": "2024-12-06T20:49:27.423392Z"
    }
   },
   "cell_type": "code",
   "source": [
    "x = None\n",
    "print(type(x))"
   ],
   "id": "b4fd2043dd55e370",
   "outputs": [
    {
     "name": "stdout",
     "output_type": "stream",
     "text": [
      "<class 'NoneType'>\n"
     ]
    }
   ],
   "execution_count": 9
  },
  {
   "metadata": {},
   "cell_type": "markdown",
   "source": [
    "## Setting Specific Data Type\n",
    "\n",
    "Specify the data type of a variable using the built-in data type constructors. The constructors are used to create variables of a specific data type.\n",
    "\n",
    "Examples:"
   ],
   "id": "2b23fb6f04aeafb4"
  },
  {
   "metadata": {
    "ExecuteTime": {
     "end_time": "2024-12-06T20:49:27.443120Z",
     "start_time": "2024-12-06T20:49:27.440687Z"
    }
   },
   "cell_type": "code",
   "source": [
    "# Set a specific data type\n",
    "x = float(10)\n",
    "print(x, type(x))\n",
    "\n",
    "y = int(3.14)\n",
    "print(y, type(y))\n",
    "\n",
    "z = str(100)\n",
    "print(z, type(z))\n",
    "\n",
    "num = int(\"100\")\n",
    "print(num, type(num))\n",
    "\n",
    "complex_num = complex(3, 4)\n",
    "print(complex_num, type(complex_num))\n",
    "\n",
    "student_info = dict(name=\"wasik\", age=23, is_regular=True)\n",
    "print(student_info, type(student_info))"
   ],
   "id": "9461c1a9be001eb2",
   "outputs": [
    {
     "name": "stdout",
     "output_type": "stream",
     "text": [
      "10.0 <class 'float'>\n",
      "3 <class 'int'>\n",
      "100 <class 'str'>\n",
      "100 <class 'int'>\n",
      "(3+4j) <class 'complex'>\n",
      "{'name': 'wasik', 'age': 23, 'is_regular': True} <class 'dict'>\n"
     ]
    }
   ],
   "execution_count": 10
  }
 ],
 "metadata": {
  "kernelspec": {
   "display_name": "Python 3",
   "language": "python",
   "name": "python3"
  },
  "language_info": {
   "codemirror_mode": {
    "name": "ipython",
    "version": 2
   },
   "file_extension": ".py",
   "mimetype": "text/x-python",
   "name": "python",
   "nbconvert_exporter": "python",
   "pygments_lexer": "ipython2",
   "version": "2.7.6"
  }
 },
 "nbformat": 4,
 "nbformat_minor": 5
}
