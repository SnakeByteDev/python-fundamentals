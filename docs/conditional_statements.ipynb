{
 "cells": [
  {
   "metadata": {},
   "cell_type": "markdown",
   "source": "# Python Conditional Statements",
   "id": "b1a18f702095a020"
  },
  {
   "metadata": {},
   "cell_type": "markdown",
   "source": [
    "## Conditional Statements\n",
    "\n",
    "Conditional statements, also known as decision-making statements, are used to execute a block of code based on a specific condition. They control the flow of the program, allowing it to make choices and execute different paths of execution."
   ],
   "id": "19aa5474368c741c"
  },
  {
   "metadata": {},
   "cell_type": "markdown",
   "source": [
    "## Types of Conditional Statements\n",
    "\n",
    "Python has the following types of conditional statements:\n",
    "\n",
    "1. `if` statement\n",
    "2. `if-else` statement\n",
    "3. `if-elif-else` statement\n",
    "4. Nested `if` statement\n",
    "5. Ternary Expression"
   ],
   "id": "30d4873da5925298"
  },
  {
   "metadata": {},
   "cell_type": "markdown",
   "source": "**_Note:_** Indentation is very important in Python. It is used to define a block of code. All statements within the same block must have the same indentation. The standard indentation is 4 spaces. Indentation is used to define the body of the conditional statements or loops in Python.",
   "id": "8ce74c8b6a87d6ea"
  },
  {
   "metadata": {},
   "cell_type": "markdown",
   "source": [
    "### <font color='green'>**_if_** Statement</font>\n",
    "\n",
    "The `if` statement is used to execute a block of code if a condition is `True`. If the condition is `False`, the block of code is skipped.\n",
    "\n",
    "Syntax of the `if` statement:\n",
    "```\n",
    "if condition:\n",
    "    # block of code\n",
    "```"
   ],
   "id": "cf08e4327b7b121e"
  },
  {
   "metadata": {
    "ExecuteTime": {
     "end_time": "2024-12-07T19:36:43.391935Z",
     "start_time": "2024-12-07T19:36:43.386003Z"
    }
   },
   "cell_type": "code",
   "source": [
    "x = 10\n",
    "\n",
    "if x > 5: # condition is True\n",
    "    print(\"x is greater than 5\")\n",
    "\n",
    "if x < 5: # condition is False\n",
    "    print(\"x is less than 5\")"
   ],
   "id": "c3d70edeec2f909",
   "outputs": [
    {
     "name": "stdout",
     "output_type": "stream",
     "text": [
      "x is greater than 5\n"
     ]
    }
   ],
   "execution_count": 1
  },
  {
   "metadata": {},
   "cell_type": "markdown",
   "source": [
    "### <font color='green'>**_if-else_** Statement</font>\n",
    "\n",
    "The `if-else` statement is used to execute one block of code if the condition is `True` and another block of code if the condition is `False`.\n",
    "\n",
    "Syntax of the `if-else` statement:\n",
    "```\n",
    "if condition:\n",
    "    # block of code\n",
    "else:\n",
    "    # block of code\n",
    "```"
   ],
   "id": "b8d7ea3129c09df1"
  },
  {
   "metadata": {
    "ExecuteTime": {
     "end_time": "2024-12-07T19:36:43.621131Z",
     "start_time": "2024-12-07T19:36:43.617260Z"
    }
   },
   "cell_type": "code",
   "source": [
    "x = 99\n",
    "\n",
    "if x % 2 == 0: # condition is True\n",
    "    print(\"x is even\")\n",
    "else: # condition is False\n",
    "    print(\"x is odd\")"
   ],
   "id": "2380c87022efef50",
   "outputs": [
    {
     "name": "stdout",
     "output_type": "stream",
     "text": [
      "x is odd\n"
     ]
    }
   ],
   "execution_count": 2
  },
  {
   "metadata": {},
   "cell_type": "markdown",
   "source": [
    "### <font color='green'>**_if-elif-else_** Statement</font>\n",
    "\n",
    "The `if-elif-else` statement is used to execute one block of code from multiple blocks of code based on multiple conditions. The `elif` keyword is used to add more conditions. It can have multiple `elif` blocks. The `else` block is optional. The `else` block is executed if none of the conditions are `True`.\n",
    "\n",
    "\n",
    "Syntax of the `if-elif-else` statement:\n",
    "```\n",
    "if condition1:\n",
    "    # block of code\n",
    "elif condition2:\n",
    "    # block of code\n",
    "else:\n",
    "    # block of code\n",
    "```"
   ],
   "id": "26c803e1f940c79d"
  },
  {
   "metadata": {
    "ExecuteTime": {
     "end_time": "2024-12-07T19:36:43.720472Z",
     "start_time": "2024-12-07T19:36:43.715210Z"
    }
   },
   "cell_type": "code",
   "source": [
    "x = 0\n",
    "\n",
    "if x > 0: # condition is False\n",
    "    print(\"x is positive\")\n",
    "elif x < 0: # condition is False\n",
    "    print(\"x is negative\")\n",
    "else: # condition is True\n",
    "    print(\"x is zero\")"
   ],
   "id": "b4adc035d4f645a8",
   "outputs": [
    {
     "name": "stdout",
     "output_type": "stream",
     "text": [
      "x is zero\n"
     ]
    }
   ],
   "execution_count": 3
  },
  {
   "metadata": {},
   "cell_type": "markdown",
   "source": [
    "### <font color='green'>Nested **_if_** Statement</font>\n",
    "\n",
    "A nested `if` statement is an `if` statement inside another `if` statement. It is used to test multiple conditions. The inner `if` statement is executed only if the outer `if` statement is `True`. The inner `if` statement can also have its own `elif` and `else` blocks."
   ],
   "id": "6e30714a1ec9a446"
  },
  {
   "metadata": {
    "ExecuteTime": {
     "end_time": "2024-12-07T19:36:43.778983Z",
     "start_time": "2024-12-07T19:36:43.774230Z"
    }
   },
   "cell_type": "code",
   "source": [
    "x = 10\n",
    "\n",
    "if x > 0: # outer if statement\n",
    "    if x % 2 == 0: # inner if statement\n",
    "        print(\"x is positive and even\")\n",
    "    else:\n",
    "        print(\"x is positive and odd\")"
   ],
   "id": "11ca0583ddd507dc",
   "outputs": [
    {
     "name": "stdout",
     "output_type": "stream",
     "text": [
      "x is positive and even\n"
     ]
    }
   ],
   "execution_count": 4
  },
  {
   "metadata": {},
   "cell_type": "markdown",
   "source": [
    "### <font color='green'>Ternary Expression</font>\n",
    "\n",
    "The ternary expression is a one-liner conditional expression. It is used to assign a value to a variable based on a condition. If only one condition is to be checked, the ternary expression is used.\n",
    "\n",
    "Syntax of the ternary expression:\n",
    "```\n",
    "variable = value1 if condition else value2\n",
    "```"
   ],
   "id": "3345b89f49a744c9"
  },
  {
   "metadata": {
    "ExecuteTime": {
     "end_time": "2024-12-07T19:36:43.817459Z",
     "start_time": "2024-12-07T19:36:43.813940Z"
    }
   },
   "cell_type": "code",
   "source": [
    "x = 10\n",
    "\n",
    "result = \"even\" if x % 2 == 0 else \"odd\"\n",
    "print(result)"
   ],
   "id": "c970ee8869405b63",
   "outputs": [
    {
     "name": "stdout",
     "output_type": "stream",
     "text": [
      "even\n"
     ]
    }
   ],
   "execution_count": 5
  }
 ],
 "metadata": {
  "kernelspec": {
   "display_name": "Python 3",
   "language": "python",
   "name": "python3"
  },
  "language_info": {
   "codemirror_mode": {
    "name": "ipython",
    "version": 2
   },
   "file_extension": ".py",
   "mimetype": "text/x-python",
   "name": "python",
   "nbconvert_exporter": "python",
   "pygments_lexer": "ipython2",
   "version": "2.7.6"
  }
 },
 "nbformat": 4,
 "nbformat_minor": 5
}
